{
 "cells": [
  {
   "cell_type": "code",
   "execution_count": 1,
   "metadata": {
    "pycharm": {
     "name": "#%%\n"
    }
   },
   "outputs": [],
   "source": [
    "from ismn.interface import ISMN_Interface\n",
    "from qa4sm_preprocessing.cgls_hr_ssm_swi.reader import S1CglsTs\n",
    "import numpy as np\n",
    "import ipywidgets as widgets\n",
    "import os\n",
    "import pandas as  pd\n",
    "from ipywidgets import interact, interact_manual\n",
    "import PIL\n",
    "PIL.Image.MAX_IMAGE_PIXELS = None\n",
    "\n",
    "path_ismn = \"/shares/wpreimes/radar/Projects/QA4SM_HR/07_data/ISMN/ISMN_V20210131/\"\n",
    "path_cgls = \"/shares/wpreimes/radar/Projects/QA4SM_HR/07_data/CGLS_SSM1km_V1.1_ts/\"\n",
    "path_lc = \"/home/wpreimes/shares/users/backgrounds/CGLS_LandCover/PROBAV_LC100_global_v3.0.1_2019-nrt_Discrete-Classification-map_EPSG-4326.tif\"\n",
    "\n",
    "cgls_name = os.path.basename(os.path.normpath(path_cgls))"
   ]
  },
  {
   "cell_type": "code",
   "execution_count": 6,
   "metadata": {},
   "outputs": [
    {
     "data": {
      "image/png": "[encoded data removed]",
      "text/plain": [
       "<Figure size 576x576 with 2 Axes>"
      ]
     },
     "metadata": {
      "needs_background": "light"
     },
     "output_type": "display_data"
    }
   ],
   "source": [
    "import matplotlib.pyplot as plt\n",
    "import cartopy.crs as ccrs\n",
    "from io_utils.read.img_readers.cgls_lc import CglsLcImg\n",
    "fname = \"/home/wpreimes/shares/users/backgrounds/CGLS_LandCover/PROBAV_LC100_global_v3.0.1_2019-nrt_Discrete-Classification-map_EPSG-4326.tif\"\n",
    "extent=[6.1, 6.2, 46.1, 46.2]\n",
    "\n",
    "ds = CglsLcImg.from_tiff(fname, extent=extent)\n",
    "fig, ax = plt.subplots(1,1, figsize=(8,8), subplot_kw={'projection':ccrs.PlateCarree()})\n",
    "im = ds.plot(ax=ax)\n",
    "plt.colorbar(im)\n",
    "plt.show()"
   ]
  },
  {
   "cell_type": "code",
   "execution_count": 7,
   "metadata": {
    "pycharm": {
     "name": "#%%\n"
    }
   },
   "outputs": [
    {
     "name": "stdout",
     "output_type": "stream",
     "text": [
      "Found existing ismn metadata in /shares/wpreimes/radar/Projects/QA4SM_HR/07_data/ISMN/ISMN_V20210131/python_metadata/ISMN_V20210131.csv.\n"
     ]
    }
   ],
   "source": [
    "from ipywidgets import interact, Dropdown, Layout\n",
    "\n",
    "ismn = ISMN_Interface(path_ismn,\n",
    "                      network=['COSMOS', 'WEGENERNET', 'HOAL', 'SMOSMANIA', 'REMEDHUS'])\n",
    "\n",
    "net, sta, sen = [], [], []\n",
    "for network, station, sensor in ismn.collection.iter_sensors(\n",
    "        variable='soil_moisture', depth=[0., 0.1]):\n",
    "    net.append(network.name)\n",
    "    sta.append(station.name)\n",
    "    sen.append(sensor.name)\n",
    "\n",
    "comps = pd.DataFrame(data={'network': net, 'station': sta, 'sensor': sen})\n",
    "\n",
    "def load_inistu_data(net, stat, sens, only_good=True) -> (pd.DataFrame, pd.DataFrame):\n",
    "    # load insitu data from a single sensor\n",
    "    ts = ismn[net][stat][sens].read_data()\n",
    "    meta = ismn[net][stat][sens].metadata.to_pd()\n",
    "    \n",
    "    if only_good:\n",
    "        ts[ts['soil_moisture_flag'] != 'G'] = np.nan\n",
    "    \n",
    "    return ts, meta\n"
   ]
  },
  {
   "cell_type": "code",
   "execution_count": 8,
   "metadata": {},
   "outputs": [],
   "source": [
    "cgls = S1CglsTs(path_cgls, parameter='ssm')"
   ]
  },
  {
   "cell_type": "code",
   "execution_count": 27,
   "metadata": {},
   "outputs": [],
   "source": [
    "import matplotlib\n",
    "import matplotlib.pyplot as plt\n",
    "import cartopy\n",
    "import cartopy.crs as ccrs\n",
    "import cartopy.io.img_tiles as cimgt\n",
    "from IPython.display import clear_output\n",
    "from pytesmo.scaling import scale\n",
    "\n",
    "%matplotlib inline\n",
    "    \n",
    "\n",
    "def plot_ts(tss, ref_name='ISMN', method=None):\n",
    "    \n",
    "    def mean_std_scale_ignore_nan(tss, ref_name='ISMN'):\n",
    "        \n",
    "        def scale(src, ref):\n",
    "            return ((src - np.nanmean(src)) / np.nanstd(src)) * np.nanstd(ref) + np.nanmean(ref)\n",
    "        \n",
    "        dat_cols = tss.columns[tss.columns != ref_name]\n",
    "        tss_scaled = pd.concat([scale(tss[c], tss[ref_name]) for c in dat_cols], axis=1)\n",
    "        \n",
    "        return tss_scaled\n",
    "    \n",
    "    \n",
    "    ts_ref = tss[[ref_name]]\n",
    "    tss_scaled = mean_std_scale_ignore_nan(tss, ref_name=ref_name)\n",
    "    \n",
    "    tss_scaled = pd.DataFrame(index=tss_scaled.index,\n",
    "                             data={'mean': tss_scaled.mean(axis=1),\n",
    "                                   'std': tss_scaled.std(axis=1),\n",
    "                                   'N': tss_scaled.count(axis=1)})\n",
    "    \n",
    "    fig, ax = plt.subplots(figsize=(12, 5))\n",
    "    ax.fill_between(tss_scaled.index, tss_scaled['mean'] - tss_scaled['std'],\n",
    "                    tss_scaled['mean'] + tss_scaled['std'],\n",
    "                    alpha=0.2, color='cornflowerblue', label='SM $\\sigma$')\n",
    "    ax.plot(tss_scaled['mean'].dropna().index, tss_scaled['mean'].dropna(), \n",
    "            color='cornflowerblue', label='MEAN Scaled Sat SM [m3/m3]')\n",
    "    ax.plot(ts_ref.index, ts_ref[ref_name], color='red', label=ref_name)\n",
    "    ax.set_xlabel('')\n",
    "    ax.set_ylabel('SM $[m^3/m^3]$')\n",
    "    \n",
    "    pmax = np.nanmax([np.nanmax(np.abs(tss_scaled['mean'] + tss_scaled['std']))])\n",
    "    pmin = np.nanmin([np.nanmin(np.abs(tss_scaled['mean'] - tss_scaled['std']))])\n",
    "\n",
    "    ax.set_ylim(pmin, pmax)\n",
    "    ax.legend(loc='upper left')\n",
    "    ax.xaxis.grid(True)\n",
    "\n",
    "    fig.suptitle(f'Reference SM vs Satellite TS')\n",
    "    \n",
    "    corr_with_mean = ts_ref['ISMN'].corr(tss_scaled['mean'])\n",
    "    rmsd_with_mean = ((ts_ref['ISMN'] - tss_scaled['mean']) ** 2).mean() ** .5\n",
    "    textstr = f'$R={corr_with_mean:.2f}, RMSD={rmsd_with_mean:.3f}$'\n",
    "    ax.text(0.7, 0.07, textstr, transform=ax.transAxes, fontsize=14,\n",
    "            verticalalignment='top', bbox=dict(boxstyle='round', facecolor='wheat', alpha=0.3))\n",
    "        \n",
    "    return fig, ax\n",
    "\n",
    "    \n",
    "\n",
    "def plot_map(lons, lats, vals, station_lon=None, station_lat=None, background=None, show_points=True):\n",
    "    llc= [v for v in [ lons.min(), lats.min()]]\n",
    "    urc= [v for v in [ lons.max(), lats.max()]]\n",
    "    \n",
    "    extent = [llc[0], urc[0], llc[1], urc[1]]\n",
    "    \n",
    "    if backgroundW.value.lower() == 'cgls landcover class':\n",
    "        from io_utils.read.img_readers.cgls_lc import CglsLcImg\n",
    "        lc_img = CglsLcImg.from_tiff(path_lc, extent=extent)\n",
    "        request = None\n",
    "    elif backgroundW.value.lower() == 'google earth (optical)':\n",
    "        request = cimgt.GoogleTiles(style='satellite')\n",
    "    elif backgroundW.value.lower() == 'google earth (terrain)':\n",
    "        request = cimgt.GoogleTiles(style='terrain')\n",
    "    else:\n",
    "        raise NotImplementedError\n",
    "    \n",
    "    data_crs = ccrs.PlateCarree()\n",
    "    \n",
    "    fig, ax = plt.subplots(1,1, figsize=(8,8), subplot_kw={'projection': request.crs if request else data_crs})\n",
    "    ax.set_extent(extent, crs=data_crs)\n",
    "\n",
    "    if backgroundW.value.lower() == 'cgls landcover class':\n",
    "        lc_img.plot(ax=ax, alpha=0.5)\n",
    "    else:\n",
    "        ax.add_image(request, 8, alpha=0.5)\n",
    "    \n",
    "    if metric.lower() == 'r':\n",
    "        cmap = plt.get_cmap('RdYlBu')\n",
    "        cblabel = 'R [-]'\n",
    "        plt_kwargs = dict(vmin=-1, vmax=1)\n",
    "    elif metric.lower() == 'bias':\n",
    "        cmap = plt.get_cmap('Reds')\n",
    "        cblabel = 'Bias $[m^3/m^3]$'\n",
    "        plt_kwargs = dict(vmin=-1, vmax=1)\n",
    "    else:\n",
    "        raise NotImplementedError\n",
    "        \n",
    "    markersize=0.1\n",
    "\n",
    "    ax.coastlines(resolution='110m', color='black', linewidth=0.25)\n",
    "    ax.add_feature(cartopy.feature.LAND, zorder=0, facecolor='oldlace')\n",
    "    ax.add_feature(cartopy.feature.STATES, linewidth=0.05, zorder=2)\n",
    "    ax.add_feature(cartopy.feature.BORDERS, linewidth=0.1, zorder=2)\n",
    "\n",
    "#    ax.gridlines(crs=data_crs, draw_labels=False,\n",
    "#                linewidth=0.5, color='black', alpha=0.15, linestyle='--')\n",
    "    if station_lon and station_lat:\n",
    "        title_part2 = f\"at Lon: {station_lon:.2f}, Lat: {station_lat:.2f}\"\n",
    "    else:\n",
    "        title_part2 = \"\"\n",
    "        \n",
    "    ax.set_title(f\"Pearson's R of {cgls_name} with ISMN station {title_part2}\", fontsize=10)\n",
    "\n",
    "\n",
    "    im = ax.scatter(lons, lats, c=vals, cmap=cmap,\n",
    "               vmin=-1, vmax=1, edgecolors='black', linewidths=0.5, \n",
    "               zorder=3, transform=data_crs)\n",
    "    \n",
    "    if (station_lon is not None) and (station_lat is not None):\n",
    "        ax.scatter(station_lon, station_lat, \n",
    "                   s=100*(matplotlib.rcParams['lines.linewidth'] ** 2),\n",
    "                   marker='^', c='black', zorder=4,\n",
    "                   transform=data_crs)\n",
    "    \n",
    "    cb = fig.colorbar(im, orientation=\"horizontal\", pad=0.01)\n",
    "    cb.set_label(cblabel, fontsize=10, color='k')\n",
    "    \n",
    "    return fig, ax\n",
    "    \n",
    "\n",
    "def plot_circle_series(lons, lats, vals, stepsize=1000):\n",
    "    fig, ax = plt.subplots(figsize=(12, 5))\n",
    "    grid = cgls.grid\n",
    "    pass\n",
    "\n",
    "def process(b):\n",
    "    net, stat, sens = netW.value, statW.value, sensW.value\n",
    "    ismn_ts, ismn_ts_meta = load_inistu_data(net, stat, sens, only_good=True)\n",
    "    station_lon, station_lat = ismn_ts_meta['longitude']['val'], ismn_ts_meta['latitude']['val']        \n",
    "    sat_tss = cgls.read_area(station_lon, station_lat, radius=radiusW.value * 1000, area='circle', average=False)\n",
    "\n",
    "    ismn_ts = ismn_ts.resample('D').mean()\n",
    "    tss = sat_tss.resample('D').mean()\n",
    "\n",
    "    tss['ISMN'] = ismn_ts\n",
    "\n",
    "    corr = tss.corr()\n",
    "    r_vals = corr.loc[corr.index != 'ISMN', 'ISMN']\n",
    "    r_lons, r_lats = cgls.grid.gpi2lonlat(r_vals.index)\n",
    "    \n",
    "\n",
    "    with outputW:\n",
    "        clear_output(wait=True)\n",
    "        print(checkboxesWs)\n",
    "        \n",
    "        if checkboxesWs['map'].value:\n",
    "            fig_map, ax_map = plot_map(r_lons, r_lats, r_vals, \n",
    "                               station_lon=station_lon, station_lat=station_lat)\n",
    "            display(fig_map)\n",
    "        \n",
    "        if checkboxesWs['rad'].value:\n",
    "            fig_circ, ax_circ = plot_circle_series(r_lons, r_lats, r_vals, stepsize=1000)\n",
    "        \n",
    "        if checkboxesWs['ts'].value:\n",
    "            fig_ts, ax_ts = plot_ts(tss, ref_name='ISMN', method='mean_std')\n",
    "\n",
    "\n",
    "\n"
   ]
  },
  {
   "cell_type": "code",
   "execution_count": 29,
   "metadata": {},
   "outputs": [
    {
     "data": {
      "application/vnd.jupyter.widget-view+json": {
       "model_id": "3723cdfe968c475784a8514e1ac4ec40",
       "version_major": 2,
       "version_minor": 0
      },
      "text/plain": [
       "HBox(children=(Dropdown(description='Network:', index=1, options=('COSMOS', 'HOAL', 'REMEDHUS', 'SMOSMANIA'), …"
      ]
     },
     "metadata": {},
     "output_type": "display_data"
    },
    {
     "data": {
      "application/vnd.jupyter.widget-view+json": {
       "model_id": "0779095b9e734e80b6954f5a4ea446f2",
       "version_major": 2,
       "version_minor": 0
      },
      "text/plain": [
       "HBox(children=(BoundedIntText(value=15, description='Radius [km]:'), Dropdown(description='Background:', optio…"
      ]
     },
     "metadata": {},
     "output_type": "display_data"
    },
    {
     "data": {
      "application/vnd.jupyter.widget-view+json": {
       "model_id": "bc7b1dd767a0435a8e822d9ae0ab83a1",
       "version_major": 2,
       "version_minor": 0
      },
      "text/plain": [
       "HBox(children=(Checkbox(value=True, description='Plot Map', indent=False), Checkbox(value=True, description='P…"
      ]
     },
     "metadata": {},
     "output_type": "display_data"
    },
    {
     "data": {
      "application/vnd.jupyter.widget-view+json": {
       "model_id": "060da5b221cb4adfbdb23e5bd9624b64",
       "version_major": 2,
       "version_minor": 0
      },
      "text/plain": [
       "Button(button_style='info', description='Go!', icon='check', style=ButtonStyle(), tooltip='Process')"
      ]
     },
     "metadata": {},
     "output_type": "display_data"
    },
    {
     "data": {
      "application/vnd.jupyter.widget-view+json": {
       "model_id": "3837b1b89855432eb2f8bd3b4d73a3f5",
       "version_major": 2,
       "version_minor": 0
      },
      "text/plain": [
       "Output()"
      ]
     },
     "metadata": {},
     "output_type": "display_data"
    }
   ],
   "source": [
    "from ipywidgets import HBox, interactive, Layout\n",
    "\n",
    "\n",
    "def ismn_select(net, stat, sens):\n",
    "    statW.options = np.unique(comps.loc[comps['network'] == net, 'station'].values)\n",
    "    sensW.options = np.unique(comps.loc[(comps['network'] == net) & \n",
    "                                        (comps['station'] == stat), 'sensor'].values)\n",
    "\n",
    "netW = Dropdown(options = np.unique(comps['network'].values), description=\"Network:\", value='HOAL')\n",
    "statW = Dropdown(description=\"Station:\")\n",
    "sensW = Dropdown(description=\"Sensor:\", layout=Layout(width='20%'))\n",
    "\n",
    "radiusW = widgets.BoundedIntText(value=15, min=0, max=100,step=1, description='Radius [km]:', disabled=False)\n",
    "\n",
    "\n",
    "ismnSelW = interactive(ismn_select, net=netW, stat=statW, sens=sensW)\n",
    "ismnSelW.update()\n",
    "\n",
    "buttonW = widgets.Button(description='Go!', disabled=False, button_style='info', tooltip='Process', icon='check')\n",
    "outputW = widgets.Output()    \n",
    "\n",
    "checkboxesWs = {short : widgets.Checkbox(value=True, description=descr, disabled=False, indent=False) \n",
    "                for short, descr in {'map': 'Plot Map', 'ts': 'Plot Mean Ts', 'rad': 'Plot Radius Series'}.items()}\n",
    "backgroundW = Dropdown(options=['Google Earth (Optical)', 'Google Earth (Terrain)', 'CGLS Landcover Class'], \n",
    "                       value='Google Earth (Optical)', description='Background:', disabled=False)\n",
    "    \n",
    "\n",
    "display(HBox(ismnSelW.children[:-1], layout = Layout(flex_flow='row wrap')))\n",
    "display(HBox([radiusW, backgroundW]))\n",
    "display(HBox(list(checkboxesWs.values())))\n",
    "display(buttonW)\n",
    "\n",
    "display(outputW)\n",
    "\n",
    "buttonW.on_click(process)"
   ]
  },
  {
   "cell_type": "code",
   "execution_count": null,
   "metadata": {},
   "outputs": [],
   "source": []
  },
  {
   "cell_type": "code",
   "execution_count": null,
   "metadata": {},
   "outputs": [],
   "source": []
  }
 ],
 "metadata": {
  "kernelspec": {
   "display_name": "Python 3",
   "language": "python",
   "name": "python3"
  },
  "language_info": {
   "codemirror_mode": {
    "name": "ipython",
    "version": 3
   },
   "file_extension": ".py",
   "mimetype": "text/x-python",
   "name": "python",
   "nbconvert_exporter": "python",
   "pygments_lexer": "ipython3",
   "version": "3.9.5"
  }
 },
 "nbformat": 4,
 "nbformat_minor": 4
}
